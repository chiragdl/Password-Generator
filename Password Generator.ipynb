{
 "cells": [
  {
   "cell_type": "code",
   "execution_count": 3,
   "id": "43dd3dd3",
   "metadata": {},
   "outputs": [
    {
     "name": "stdout",
     "output_type": "stream",
     "text": [
      "Enter the length of password: 6\n",
      "s h x 5 k M\n"
     ]
    }
   ],
   "source": [
    "import string\n",
    "import random\n",
    "\n",
    "pass_len = int(input(\"Enter the length of password: \"))\n",
    "\n",
    "lower_case = string.ascii_lowercase\n",
    "upper_case = string.ascii_uppercase\n",
    "num = string.digits\n",
    "\n",
    "data = lower_case + upper_case + num\n",
    "\n",
    "temp_pass = random.sample(data,pass_len)\n",
    "\n",
    "password = \" \".join(temp_pass)\n",
    "print(password)"
   ]
  },
  {
   "cell_type": "code",
   "execution_count": 5,
   "id": "0077704b",
   "metadata": {},
   "outputs": [
    {
     "name": "stdout",
     "output_type": "stream",
     "text": [
      "Enter the length of password: 7\n",
      "6 G 9 $ E - :\n"
     ]
    }
   ],
   "source": [
    "import string\n",
    "import random\n",
    "\n",
    "pass_len = int(input(\"Enter the length of password: \"))\n",
    "\n",
    "lower_case = string.ascii_lowercase\n",
    "upper_case = string.ascii_uppercase\n",
    "num = string.digits\n",
    "spl_case = string.punctuation\n",
    "\n",
    "data = lower_case + upper_case + num + spl_case\n",
    "\n",
    "temp_pass = random.sample(data,pass_len)\n",
    "\n",
    "password = \" \".join(temp_pass)\n",
    "print(password)"
   ]
  },
  {
   "cell_type": "code",
   "execution_count": null,
   "id": "1dbbbd58",
   "metadata": {},
   "outputs": [],
   "source": []
  }
 ],
 "metadata": {
  "kernelspec": {
   "display_name": "Python 3",
   "language": "python",
   "name": "python3"
  },
  "language_info": {
   "codemirror_mode": {
    "name": "ipython",
    "version": 3
   },
   "file_extension": ".py",
   "mimetype": "text/x-python",
   "name": "python",
   "nbconvert_exporter": "python",
   "pygments_lexer": "ipython3",
   "version": "3.8.8"
  }
 },
 "nbformat": 4,
 "nbformat_minor": 5
}
